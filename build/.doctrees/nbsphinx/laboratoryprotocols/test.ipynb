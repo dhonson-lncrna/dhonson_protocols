{
 "cells": [
  {
   "cell_type": "markdown",
   "id": "369a3dbf-4a1b-407a-8a6c-526778b937f0",
   "metadata": {},
   "source": [
    "##### This is some documentation"
   ]
  },
  {
   "cell_type": "code",
   "execution_count": 1,
   "id": "376598e7-70fa-4b80-9a87-63c4ca0a1a1b",
   "metadata": {
    "tags": []
   },
   "outputs": [],
   "source": [
    "# This is some code\n",
    "\n",
    "def afunction():\n",
    "    x = input('Integer')\n",
    "    return x"
   ]
  },
  {
   "cell_type": "code",
   "execution_count": null,
   "id": "4e7b3bad-b751-44e1-bf81-a635fd1c794b",
   "metadata": {},
   "outputs": [],
   "source": []
  }
 ],
 "metadata": {
  "kernelspec": {
   "display_name": "Python 3 (ipykernel)",
   "language": "python",
   "name": "python3"
  },
  "language_info": {
   "codemirror_mode": {
    "name": "ipython",
    "version": 3
   },
   "file_extension": ".py",
   "mimetype": "text/x-python",
   "name": "python",
   "nbconvert_exporter": "python",
   "pygments_lexer": "ipython3",
   "version": "3.9.17"
  }
 },
 "nbformat": 4,
 "nbformat_minor": 5
}
